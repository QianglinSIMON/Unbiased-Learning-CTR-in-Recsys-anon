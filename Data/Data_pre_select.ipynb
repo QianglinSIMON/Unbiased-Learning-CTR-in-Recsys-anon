{
 "cells": [
  {
   "cell_type": "code",
   "execution_count": 12,
   "metadata": {
    "ExecuteTime": {
     "end_time": "2024-12-03T06:16:47.234269Z",
     "start_time": "2024-12-03T06:16:47.231104Z"
    }
   },
   "outputs": [],
   "source": [
    "import numpy as np\n",
    "import pandas as pd\n",
    "import matplotlib.pyplot as plt\n",
    "import seaborn as sns\n",
    "#import pyecharts \n",
    "\n",
    "\n",
    "#% matplotlib inline  # 每一行默认输出\n",
    "plt.style.use('ggplot')  # 风格的设置\n",
    "\n",
    "#plt.rcParams['font.family'] = 'SimHei'  # 设置中文字体\n",
    "plt.rcParams['axes.unicode_minus'] = False # 坐标轴支持负号"
   ]
  },
  {
   "cell_type": "code",
   "execution_count": 13,
   "metadata": {},
   "outputs": [],
   "source": [
    "dt_log_standard1 = pd.read_csv(\"/Users/bytedance/Desktop/Unbiased_learning_CTR_codes/kuai_rand_Datasets_preprocess/KuaiRand-Pure/data/log_standard_4_22_to_5_08_pure.csv\")\n",
    "\n",
    "dt_log_standard2 = pd.read_csv(\"/Users/bytedance/Desktop/Unbiased_learning_CTR_codes/kuai_rand_Datasets_preprocess/KuaiRand-Pure/data/log_standard_4_08_to_4_21_pure.csv\")\n",
    "\n",
    "\n",
    "dt_pure_log_standard=pd.concat([dt_log_standard1,dt_log_standard2],axis=0).reindex()\n",
    "\n",
    "dt_pure_log_rand = pd.read_csv(\"/Users/bytedance/Desktop/Unbiased_learning_CTR_codes/kuai_rand_Datasets_preprocess/KuaiRand-Pure/data/log_random_4_22_to_5_08_pure.csv\")\n",
    "\n",
    "\n",
    "\n",
    "dt_pure_log_standard=dt_pure_log_standard[['user_id', 'video_id', 'time_ms', 'is_click', 'tab']] ## 选择主要指标和一个反馈指标\n",
    "\n",
    "dt_pure_log_rand=dt_pure_log_rand[['user_id', 'video_id', 'time_ms', 'is_click', 'tab']] ## 选择主要指标和一个反馈指标\n",
    "\n",
    "## 反馈指标：'is_click',\n",
    "       # 'is_like', 'is_follow', 'is_comment', 'is_forward', 'is_hate',\n",
    "       # 'long_view', 'play_time_ms', 'duration_ms', 'profile_stay_time',\n",
    "       # 'comment_stay_time', 'is_profile_enter',\n",
    "\n"
   ]
  },
  {
   "cell_type": "code",
   "execution_count": 14,
   "metadata": {},
   "outputs": [],
   "source": [
    "\n",
    "\n",
    "dt_pure_user_feature = pd.read_csv(\"/Users/bytedance/Desktop/Unbiased_learning_CTR_codes/kuai_rand_Datasets_preprocess/KuaiRand-Pure/data\"\n",
    "                                \"/user_features_pure.csv\")\n",
    "\n",
    "\n",
    "dt_pure_user_feature=dt_pure_user_feature[['user_id', 'user_active_degree', 'is_lowactive_period',\n",
    "       'is_live_streamer', 'is_video_author', 'follow_user_num',\n",
    "       'follow_user_num_range', 'fans_user_num', 'fans_user_num_range',\n",
    "       'friend_user_num', 'friend_user_num_range', 'register_days',\n",
    "       'register_days_range', 'onehot_feat0', 'onehot_feat1', 'onehot_feat2',\n",
    "       'onehot_feat3',  'onehot_feat5', 'onehot_feat6',\n",
    "       'onehot_feat7', 'onehot_feat8', 'onehot_feat9', 'onehot_feat10',\n",
    "       'onehot_feat11']] ## 删除 'onehot_feat4'，'onehot_feat12'，'onehot_feat13'，'onehot_feat14'，'onehot_feat15'，'onehot_feat16'，'onehot_feat17'，因为某些 user 的这几个指标为空。\n",
    "\n",
    "\n",
    "\n",
    "dt_pure_video_basic_feature = pd.read_csv(\"/Users/bytedance/Desktop/Unbiased_learning_CTR_codes/kuai_rand_Datasets_preprocess/KuaiRand-Pure/data\"\n",
    "                                \"/video_features_basic_pure.csv\")\n",
    "\n",
    "\n",
    "dt_pure_video_basic_feature=dt_pure_video_basic_feature[['video_id', 'author_id', 'video_type', 'upload_dt', 'upload_type',\n",
    "       'visible_status',  'server_width', 'server_height',\n",
    "       'music_id']] ## 删除 'music_type', 'tag'，'video_duration' 三列，因为有些视频的这三个特征为空 \n",
    "\n",
    "dt_pure_video_summary_features = pd.read_csv(\"/Users/bytedance/Desktop/Unbiased_learning_CTR_codes/kuai_rand_Datasets_preprocess/KuaiRand-Pure/data/video_features_statistic_pure.csv\")\n",
    "\n"
   ]
  },
  {
   "cell_type": "code",
   "execution_count": 15,
   "metadata": {},
   "outputs": [],
   "source": [
    "# 将用户特征数据连接到推荐系统数据集中\n",
    "##-- standard data---\n",
    "\n",
    "pure_merged_standard_data1 = pd.merge(dt_pure_log_standard, dt_pure_user_feature, on='user_id', how='left')\n",
    "\n",
    "pure_merged_standard_data2=pd.merge(pure_merged_standard_data1,dt_pure_video_basic_feature,on='video_id', how='left')\n",
    "\n",
    "pure_merged_standard_data3=pd.merge(pure_merged_standard_data2,dt_pure_video_summary_features,on='video_id', how='left')\n",
    "\n",
    "pure_merged_standard_data3.to_csv('normal_all_data.csv',index=False)"
   ]
  },
  {
   "cell_type": "code",
   "execution_count": 16,
   "metadata": {},
   "outputs": [],
   "source": [
    "##-- random data---\n",
    "\n",
    "pure_merged_rand_data1 = pd.merge(dt_pure_log_rand, dt_pure_user_feature, on='user_id', how='left')\n",
    "\n",
    "pure_merged_rand_data2=pd.merge(pure_merged_rand_data1,dt_pure_video_basic_feature,on='video_id', how='left')\n",
    "\n",
    "pure_merged_rand_data3=pd.merge(pure_merged_rand_data2,dt_pure_video_summary_features,on='video_id', how='left')\n",
    "\n",
    "pure_merged_rand_data3.to_csv('random_all_data.csv',index=False)"
   ]
  },
  {
   "cell_type": "code",
   "execution_count": null,
   "metadata": {},
   "outputs": [],
   "source": []
  }
 ],
 "metadata": {
  "kernelspec": {
   "display_name": "Python 3",
   "language": "python",
   "name": "python3"
  },
  "language_info": {
   "codemirror_mode": {
    "name": "ipython",
    "version": 3
   },
   "file_extension": ".py",
   "mimetype": "text/x-python",
   "name": "python",
   "nbconvert_exporter": "python",
   "pygments_lexer": "ipython3",
   "version": "3.8.10"
  }
 },
 "nbformat": 4,
 "nbformat_minor": 2
}
